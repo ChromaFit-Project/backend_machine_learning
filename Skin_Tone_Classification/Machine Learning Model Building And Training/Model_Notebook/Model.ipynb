{
 "cells": [
  {
   "cell_type": "code",
   "execution_count": 2,
   "metadata": {},
   "outputs": [],
   "source": [
    "import os\n",
    "import numpy as np\n",
    "import pandas as pd\n",
    "import cv2\n",
    "import matplotlib.pyplot as plt\n",
    "from sklearn.model_selection import train_test_split\n",
    "from sklearn.ensemble import RandomForestClassifier\n",
    "from sklearn.metrics import accuracy_score\n",
    "from sklearn.preprocessing import LabelEncoder\n",
    "from sklearn.metrics.pairwise import euclidean_distances\n",
    "from tqdm import tqdm\n",
    "\n",
    "# Load predefined skin tones dataset\n",
    "df_skin_tones = pd.read_csv(\"skin_shades_india.csv\")\n",
    "\n",
    "# Convert HEX to RGB\n",
    "def hex_to_rgb(hex_code):\n",
    "    hex_code = hex_code.lstrip('#')  # Remove '#' if present\n",
    "    return [int(hex_code[i:i+2], 16) for i in (0, 2, 4)]\n",
    "\n",
    "df_skin_tones['RGB'] = df_skin_tones['HEX Code'].apply(hex_to_rgb)\n"
   ]
  },
  {
   "cell_type": "code",
   "execution_count": 3,
   "metadata": {},
   "outputs": [],
   "source": [
    "def extract_skin_region(image):\n",
    "    \"\"\"Apply skin detection using HSV color filtering.\"\"\"\n",
    "    hsv = cv2.cvtColor(image, cv2.COLOR_BGR2HSV)\n",
    "    \n",
    "    # Define skin color range in HSV\n",
    "    lower_skin = np.array([0, 20, 70], dtype=np.uint8)\n",
    "    upper_skin = np.array([20, 255, 255], dtype=np.uint8)\n",
    "\n",
    "    # Apply mask to detect skin region\n",
    "    mask = cv2.inRange(hsv, lower_skin, upper_skin)\n",
    "    \n",
    "    # Extract the skin region\n",
    "    skin = cv2.bitwise_and(image, image, mask=mask)\n",
    "    return skin\n",
    "\n",
    "def get_average_skin_color(image):\n",
    "    \"\"\"Extract the skin region and compute the average RGB color.\"\"\"\n",
    "    skin = extract_skin_region(image)\n",
    "    \n",
    "    # Convert to RGB (from BGR)\n",
    "    skin_rgb = cv2.cvtColor(skin, cv2.COLOR_BGR2RGB)\n",
    "    \n",
    "    # Reshape the image to a list of pixels\n",
    "    pixels = skin_rgb.reshape((-1, 3))\n",
    "    \n",
    "    # Remove black pixels (background)\n",
    "    pixels = pixels[np.all(pixels != [0, 0, 0], axis=1)]\n",
    "    \n",
    "    if len(pixels) == 0:\n",
    "        return None  # No skin detected\n",
    "    \n",
    "    # Compute the mean RGB color\n",
    "    avg_color = np.mean(pixels, axis=0).astype(int)\n",
    "    return avg_color.tolist()\n"
   ]
  },
  {
   "cell_type": "code",
   "execution_count": 4,
   "metadata": {},
   "outputs": [
    {
     "name": "stderr",
     "output_type": "stream",
     "text": [
      "100%|██████████| 500/500 [00:17<00:00, 28.47it/s]\n",
      "100%|██████████| 500/500 [00:18<00:00, 27.41it/s]\n",
      "100%|██████████| 500/500 [00:16<00:00, 31.14it/s]\n"
     ]
    }
   ],
   "source": [
    "dataset_path = \"./train\"  # Update with your dataset path\n",
    "\n",
    "X = []  # Features (RGB values)\n",
    "y = []  # Labels (Skin tone class)\n",
    "hex_codes = []  # Corresponding HEX codes\n",
    "\n",
    "# Iterate through all images in the dataset\n",
    "for label in os.listdir(dataset_path):  # Assuming folders are named by skin tone\n",
    "    label_path = os.path.join(dataset_path, label)\n",
    "    \n",
    "    if not os.path.isdir(label_path):\n",
    "        continue  # Skip if it's not a folder\n",
    "    \n",
    "    for img_name in tqdm(os.listdir(label_path)):\n",
    "        img_path = os.path.join(label_path, img_name)\n",
    "        \n",
    "        # Read image\n",
    "        img = cv2.imread(img_path)\n",
    "        if img is None:\n",
    "            continue  # Skip unreadable images\n",
    "        \n",
    "        # Get average skin color\n",
    "        avg_color = get_average_skin_color(img)\n",
    "        if avg_color is None:\n",
    "            continue  # Skip images where no skin is detected\n",
    "        \n",
    "        # Find the closest predefined skin tone\n",
    "        distances = euclidean_distances([avg_color], np.array(df_skin_tones['RGB'].tolist()))\n",
    "        closest_index = np.argmin(distances)\n",
    "        \n",
    "        # Get corresponding skin tone and HEX code\n",
    "        skin_tone_class = df_skin_tones.iloc[closest_index]['Skin Shade Description']\n",
    "        hex_code = df_skin_tones.iloc[closest_index]['HEX Code']\n",
    "        \n",
    "        # Append to dataset\n",
    "        X.append(avg_color)\n",
    "        y.append(skin_tone_class)\n",
    "        hex_codes.append(hex_code)\n",
    "\n",
    "# Convert lists to numpy arrays\n",
    "X = np.array(X)\n",
    "y = np.array(y)\n",
    "hex_codes = np.array(hex_codes)\n"
   ]
  },
  {
   "cell_type": "code",
   "execution_count": 5,
   "metadata": {},
   "outputs": [
    {
     "name": "stdout",
     "output_type": "stream",
     "text": [
      "Model Accuracy: 90.33%\n"
     ]
    }
   ],
   "source": [
    "# Encode labels as numbers\n",
    "label_encoder = LabelEncoder()\n",
    "y_encoded = label_encoder.fit_transform(y)\n",
    "\n",
    "# Split dataset into train and test sets\n",
    "X_train, X_test, y_train, y_test = train_test_split(X, y_encoded, test_size=0.2, random_state=42)\n",
    "\n",
    "# Train Random Forest model\n",
    "clf = RandomForestClassifier(n_estimators=100, random_state=42)\n",
    "clf.fit(X_train, y_train)\n",
    "\n",
    "# Evaluate model\n",
    "y_pred = clf.predict(X_test)\n",
    "accuracy = accuracy_score(y_test, y_pred)\n",
    "print(f\"Model Accuracy: {accuracy * 100:.2f}%\")\n"
   ]
  },
  {
   "cell_type": "code",
   "execution_count": 6,
   "metadata": {},
   "outputs": [
    {
     "name": "stdout",
     "output_type": "stream",
     "text": [
      "Predicted Skin Tone: Medium Skin\n",
      "Predicted HEX Code: #D19A6A\n"
     ]
    }
   ],
   "source": [
    "def predict_skin_tone(image_path):\n",
    "    img = cv2.imread(image_path)\n",
    "    avg_color = get_average_skin_color(img)\n",
    "    \n",
    "    if avg_color is None:\n",
    "        return \"No skin detected\", None\n",
    "    \n",
    "    # Predict skin tone class\n",
    "    predicted_label = clf.predict([avg_color])[0]\n",
    "    predicted_skin_tone = label_encoder.inverse_transform([predicted_label])[0]\n",
    "    \n",
    "    # Get closest HEX code\n",
    "    distances = euclidean_distances([avg_color], np.array(df_skin_tones['RGB'].tolist()))\n",
    "    closest_index = np.argmin(distances)\n",
    "    predicted_hex_code = df_skin_tones.iloc[closest_index]['HEX Code']\n",
    "    \n",
    "    return predicted_skin_tone, predicted_hex_code\n",
    "\n",
    "# Test on a new image\n",
    "image_path = \"./train/Brown/10_0_1_20170110223455893.jpg.chip.jpg\"\n",
    "predicted_tone, predicted_hex = predict_skin_tone(image_path)\n",
    "print(f\"Predicted Skin Tone: {predicted_tone}\")\n",
    "print(f\"Predicted HEX Code: {predicted_hex}\")\n"
   ]
  },
  {
   "cell_type": "code",
   "execution_count": 7,
   "metadata": {},
   "outputs": [
    {
     "data": {
      "text/plain": [
       "['label_encoder.pkl']"
      ]
     },
     "execution_count": 7,
     "metadata": {},
     "output_type": "execute_result"
    }
   ],
   "source": [
    "import joblib\n",
    "\n",
    "# Save the trained model\n",
    "joblib.dump(clf, \"skin_tone_model.pkl\")\n",
    "\n",
    "# Save the label encoder as well\n",
    "joblib.dump(label_encoder, \"label_encoder.pkl\")\n"
   ]
  }
 ],
 "metadata": {
  "kernelspec": {
   "display_name": "Python 3",
   "language": "python",
   "name": "python3"
  },
  "language_info": {
   "codemirror_mode": {
    "name": "ipython",
    "version": 3
   },
   "file_extension": ".py",
   "mimetype": "text/x-python",
   "name": "python",
   "nbconvert_exporter": "python",
   "pygments_lexer": "ipython3",
   "version": "3.11.3"
  }
 },
 "nbformat": 4,
 "nbformat_minor": 2
}
